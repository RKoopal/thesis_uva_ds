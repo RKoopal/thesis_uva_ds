{
 "cells": [
  {
   "cell_type": "code",
   "execution_count": null,
   "metadata": {
    "application/vnd.databricks.v1+cell": {
     "cellMetadata": {
      "byteLimit": 2048000,
      "rowLimit": 10000
     },
     "inputWidgets": {},
     "nuid": "fc499ba2-e143-4fdf-aac3-15029724ce49",
     "showTitle": false,
     "title": ""
    }
   },
   "outputs": [],
   "source": [
    "!pip install torch==2.1.2 torchvision==0.16.2 torchaudio==2.1.2\n",
    "!pip install -e .\n",
    " \n",
    "!pip install pydantic-settings\n",
    "!pip install peft\n",
    "!pip install trl\n",
    "!pip install bitsandbytes\n",
    "!cd FlagEmbedding/LM_Cocktail/\n",
    "!pip install -e . \n",
    "# Restart the Python process to use the updated packages\n",
    "dbutils.library.restartPython()"
   ]
  },
  {
   "cell_type": "code",
   "execution_count": null,
   "metadata": {
    "application/vnd.databricks.v1+cell": {
     "cellMetadata": {
      "byteLimit": 2048000,
      "rowLimit": 10000
     },
     "inputWidgets": {},
     "nuid": "97802fbf-acc2-421e-a52f-89f7d51edff6",
     "showTitle": false,
     "title": ""
    }
   },
   "outputs": [],
   "source": [
    "from pathlib import Path\n",
    "from Reimer.automatic_merging import create_merging_samples, call_mix_models, call_mix_models_with_data"
   ]
  },
  {
   "cell_type": "markdown",
   "metadata": {
    "application/vnd.databricks.v1+cell": {
     "cellMetadata": {
      "byteLimit": 2048000,
      "rowLimit": 10000
     },
     "inputWidgets": {},
     "nuid": "a5e85918-e3c7-4d95-8316-2188007629a3",
     "showTitle": false,
     "title": ""
    }
   },
   "source": [
    "create samples"
   ]
  },
  {
   "cell_type": "code",
   "execution_count": null,
   "metadata": {
    "application/vnd.databricks.v1+cell": {
     "cellMetadata": {
      "byteLimit": 2048000,
      "rowLimit": 10000
     },
     "inputWidgets": {},
     "nuid": "0e29c14e-9c70-4ac1-8d86-38df46599d11",
     "showTitle": false,
     "title": ""
    }
   },
   "outputs": [],
   "source": [
    "data_dir = \"/dbfs/Reimer/data\"\n",
    "samples_dir = \"/dbfs:/Reimer/merging_data\"\n",
    "seed=42\n",
    "N = 20\n",
    "task=\"sib200\"\n",
    "language=\"de\"\n",
    "\n",
    "print(f\"generating merging data for {task}-{language} with seed={seed}\")\n",
    "data_path = f\"{data_dir}/{task}/{task}_{language}_validation-filtered.json\"\n",
    "samples_path = f\"{samples_dir}/{task}/{task}_{language}_{seed}_samples_{N}.json\"\n",
    "dbutils.fs.mkdirs(samples_dir)\n",
    "samples_dir = samples_dir.replace(\":\", \"\")\n",
    "# create_merging_samples(task=task, language=language, N=N, seed=seed, data_path=data_path, output_path=samples_path, databricks=True)"
   ]
  },
  {
   "cell_type": "code",
   "execution_count": null,
   "metadata": {
    "application/vnd.databricks.v1+cell": {
     "cellMetadata": {
      "byteLimit": 2048000,
      "rowLimit": 10000
     },
     "inputWidgets": {},
     "nuid": "ed69ec11-b8a3-4883-9652-ffd277e2364b",
     "showTitle": false,
     "title": ""
    }
   },
   "outputs": [],
   "source": [
    "data_dir = \"/dbfs/Reimer/data\"\n",
    "# samples_dir = \"/dbfs:/Reimer/merging_data\"\n",
    "seed=42\n",
    "N = 20\n",
    "from Reimer.constants import TRAINING_LANGUAGES\n",
    "\n",
    "for task in TRAINING_LANGUAGES.keys():\n",
    "    for language in TRAINING_LANGUAGES[task]:\n",
    "        print(f\"generating merging data for {task}-{language} with seed={seed}\")\n",
    "        data_path = f\"{data_dir}/{task}/{task}_{language}_validation.json\"\n",
    "        samples_path = f\"{samples_dir}/{task}/{task}_{language}_{seed}_samples_{N}.json\"\n",
    "        dbutils.fs.mkdirs(samples_dir)\n",
    "        # create_merging_samples(task=task, language=language, N=N, seed=seed, data_path=data_path)"
   ]
  },
  {
   "cell_type": "markdown",
   "metadata": {
    "application/vnd.databricks.v1+cell": {
     "cellMetadata": {
      "byteLimit": 2048000,
      "rowLimit": 10000
     },
     "inputWidgets": {},
     "nuid": "766d5606-843f-41a7-a7e9-d07d22bd1a4c",
     "showTitle": false,
     "title": ""
    }
   },
   "source": [
    "Merging"
   ]
  },
  {
   "cell_type": "code",
   "execution_count": null,
   "metadata": {
    "application/vnd.databricks.v1+cell": {
     "cellMetadata": {
      "byteLimit": 2048000,
      "rowLimit": 10000
     },
     "inputWidgets": {},
     "nuid": "320986e1-1b0e-4227-bda2-bf75170b1f52",
     "showTitle": false,
     "title": ""
    }
   },
   "outputs": [],
   "source": [
    "def create_model_path(\n",
    "    base_model,\n",
    "    task,\n",
    "    language,\n",
    "    ft_type,\n",
    "    base_path = \"/dbfs/Reimer/output\",\n",
    "):\n",
    "    return f\"{base_path}/{task}/experiment_{base_model}_{task}_{ft_type}_{language}/\""
   ]
  },
  {
   "cell_type": "markdown",
   "metadata": {
    "application/vnd.databricks.v1+cell": {
     "cellMetadata": {
      "byteLimit": 2048000,
      "rowLimit": 10000
     },
     "inputWidgets": {},
     "nuid": "f6594c08-98ca-435d-aada-7ff54b795c05",
     "showTitle": false,
     "title": ""
    }
   },
   "source": [
    "base-ft, mono and pooling"
   ]
  },
  {
   "cell_type": "code",
   "execution_count": null,
   "metadata": {
    "application/vnd.databricks.v1+cell": {
     "cellMetadata": {
      "byteLimit": 2048000,
      "rowLimit": 10000
     },
     "inputWidgets": {},
     "nuid": "a7d9178f-dbd5-4530-8243-914d1858dafa",
     "showTitle": false,
     "title": ""
    }
   },
   "outputs": [],
   "source": [
    "examples_dir = Path(\"/Workspace/Users/rkoopal@deloitte.nl/merging_samples\")\n",
    "examples_paths = [str(p) for p in examples_dir.iterdir() if p.is_file()]\n",
    "languages = ['ar', 'de', 'el', 'es']\n",
    "\n",
    "for lang in languages:\n",
    "    base_path = \"/dbfs/Reimer/output\"\n",
    "    model1 = \"Bigscience/mt0-large\"\n",
    "    model2 = create_model_path(base_model=\"mt0-large\", task=\"wikiann\", language=lang, ft_type=\"ft\")\n",
    "    \n",
    "    # print(f\"Mixing (mono) with {model1}, {model2}\")\n",
    "    # call_mix_models(models=[model1, model2], output_dir=\"/dbfs/Reimer/merged_models/mono\", databricks=True)\n",
    "\n",
    "    # print(f\"Mixing (pooling) with {model1}, {model2}\")\n",
    "    # call_mix_models_with_data(models=[model1, model2], output_dir=\"/dbfs/Reimer/merged_models/pooling\", example_paths=examples_paths, databricks=True)"
   ]
  },
  {
   "cell_type": "markdown",
   "metadata": {
    "application/vnd.databricks.v1+cell": {
     "cellMetadata": {
      "byteLimit": 2048000,
      "rowLimit": 10000
     },
     "inputWidgets": {},
     "nuid": "098b1c69-7cb6-49aa-b5e7-9a24a04ece72",
     "showTitle": false,
     "title": ""
    }
   },
   "source": [
    "ft-ft - mono"
   ]
  },
  {
   "cell_type": "code",
   "execution_count": null,
   "metadata": {
    "application/vnd.databricks.v1+cell": {
     "cellMetadata": {
      "byteLimit": 2048000,
      "rowLimit": 10000
     },
     "inputWidgets": {},
     "nuid": "c5365c41-8c8b-46be-9ecc-876873e1d5f6",
     "showTitle": false,
     "title": ""
    }
   },
   "outputs": [],
   "source": [
    "from itertools import combinations_with_replacement, combinations\n",
    "languages = ['ar', 'de', 'el', 'es']\n",
    "\n",
    "for lang1, lang2 in combinations(languages, 2):\n",
    "    print(f\"{lang1} - {lang2}\")"
   ]
  },
  {
   "cell_type": "code",
   "execution_count": null,
   "metadata": {
    "application/vnd.databricks.v1+cell": {
     "cellMetadata": {
      "byteLimit": 2048000,
      "rowLimit": 10000
     },
     "inputWidgets": {},
     "nuid": "80b0210a-125c-4117-ba17-40a2fe84fd87",
     "showTitle": false,
     "title": ""
    }
   },
   "outputs": [],
   "source": [
    "from itertools import product, combinations_with_replacement, combinations\n",
    "from tqdm import tqdm\n",
    "examples_dir = Path(\"/Workspace/Users/rkoopal@deloitte.nl/merging_samples\")\n",
    "examples_paths = [str(p) for p in examples_dir.iterdir() if p.is_file()]\n",
    "languages = ['ar', 'de', 'el', 'es']\n",
    "\n",
    "task1 = \"wikiann\"\n",
    "task2 = \"wikiann\"\n",
    "\n",
    "for lang1, lang2 in tqdm(combinations(languages, 2)):\n",
    "    model1 = create_model_path(base_model=\"mt0-large\", task=task1, language=lang1, ft_type=\"ft\")\n",
    "    model2 = create_model_path(base_model=\"mt0-large\", task=task2, language=lang2, ft_type=\"ft\")\n",
    "    \n",
    "    print(f\"Mixing (mono) with {model1}, {model2}\")\n",
    "    call_mix_models(models=[model1, model2], output_dir=\"/dbfs/Reimer/merged_models/mono\", databricks=True)\n",
    "\n",
    "    # print(f\"Mixing (pooling) with {model1}, {model2}\")\n",
    "    # call_mix_models_with_data(models=[model1, model2], output_dir=\"/dbfs/Reimer/merged_models/pooling\", example_paths=examples_paths, databricks=True)"
   ]
  },
  {
   "cell_type": "code",
   "execution_count": null,
   "metadata": {
    "application/vnd.databricks.v1+cell": {
     "cellMetadata": {
      "byteLimit": 2048000,
      "rowLimit": 10000
     },
     "inputWidgets": {},
     "nuid": "bb2f5c6c-dd44-4ab7-8618-e4bb0e2eb1e7",
     "showTitle": false,
     "title": ""
    }
   },
   "outputs": [],
   "source": [
    "display(dbutils.fs.ls(\"dbfs:/Reimer/merged_models/mono\"))"
   ]
  }
 ],
 "metadata": {
  "application/vnd.databricks.v1+notebook": {
   "dashboards": [],
   "environmentMetadata": null,
   "language": "python",
   "notebookMetadata": {
    "pythonIndentUnit": 4
   },
   "notebookName": "merging_databricks1",
   "widgets": {}
  },
  "language_info": {
   "name": "python"
  }
 },
 "nbformat": 4,
 "nbformat_minor": 0
}
