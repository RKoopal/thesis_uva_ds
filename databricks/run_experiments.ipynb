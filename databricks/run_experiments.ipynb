{
 "cells": [
  {
   "cell_type": "code",
   "execution_count": null,
   "metadata": {
    "application/vnd.databricks.v1+cell": {
     "cellMetadata": {
      "byteLimit": 2048000,
      "rowLimit": 10000
     },
     "inputWidgets": {},
     "nuid": "a182e0dd-57c4-4c9b-be34-a354d0dd8d11",
     "showTitle": false,
     "title": ""
    }
   },
   "outputs": [],
   "source": [
    "!pip install torch==2.1.2 torchvision==0.16.2 torchaudio==2.1.2\n",
    "!pip install -e .\n",
    " \n",
    "!pip install pydantic-settings\n",
    "!pip install peft\n",
    "!pip install trl\n",
    "!pip install bitsandbytes\n",
    "# Restart the Python process to use the updated packages\n",
    "dbutils.library.restartPython()"
   ]
  },
  {
   "cell_type": "code",
   "execution_count": null,
   "metadata": {
    "application/vnd.databricks.v1+cell": {
     "cellMetadata": {
      "byteLimit": 2048000,
      "rowLimit": 10000
     },
     "inputWidgets": {},
     "nuid": "03737898-09f4-4104-ba2a-80bd31bd27a5",
     "showTitle": false,
     "title": ""
    }
   },
   "outputs": [],
   "source": [
    "import os\n",
    "import sys\n",
    "from pathlib import Path\n",
    " \n",
    "# Add the directory containing llm_research to the Python path\n",
    "sys.path.append(str(Path('/Workspace/Users/rkoopal@deloitte.nl/src')))\n",
    " \n",
    "# Set an environment variable to distinguish between local and Databricks enironments\n",
    "os.environ['DB_IS_LOCAL'] = 'False'\n",
    " \n",
    "# Read and execute the script\n",
    "with open('/Workspace/Users/rkoopal@deloitte.nl/Reimer/run_baseline_databricks.py') as f:\n",
    "    code = f.read()\n",
    "exec(code)"
   ]
  }
 ],
 "metadata": {
  "application/vnd.databricks.v1+notebook": {
   "dashboards": [],
   "environmentMetadata": null,
   "language": "python",
   "notebookMetadata": {
    "pythonIndentUnit": 4
   },
   "notebookName": "run_experiments",
   "widgets": {}
  },
  "language_info": {
   "name": "python"
  }
 },
 "nbformat": 4,
 "nbformat_minor": 0
}
