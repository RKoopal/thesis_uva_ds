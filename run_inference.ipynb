{
 "cells": [
  {
   "cell_type": "code",
   "execution_count": 3,
   "metadata": {},
   "outputs": [],
   "source": [
    "import torch\n",
    "import json\n",
    "import os\n",
    "import pandas as pd\n",
    "from pathlib import Path\n",
    "from datasets import load_dataset\n",
    "from sentence_transformers import SentenceTransformer\n",
    "from transformers import AutoTokenizer, MT5ForConditionalGeneration, T5TokenizerFast, AutoModelForSeq2SeqLM"
   ]
  },
  {
   "cell_type": "code",
   "execution_count": 4,
   "metadata": {},
   "outputs": [
    {
     "name": "stderr",
     "output_type": "stream",
     "text": [
      "WARNING:root:flash_attn not installed. Using default attention implementation.\n"
     ]
    }
   ],
   "source": [
    "from llm_research.inference import run_inference\n",
    "from llm_research.evaluation import calculate_token_level_match_accuracy, calculate_exact_match_accuracy"
   ]
  },
  {
   "cell_type": "code",
   "execution_count": 5,
   "metadata": {},
   "outputs": [
    {
     "name": "stderr",
     "output_type": "stream",
     "text": [
      "WARNING:root:flash_attn not installed. Using default attention implementation.\n",
      "You are using the default legacy behaviour of the <class 'transformers.models.t5.tokenization_t5.T5Tokenizer'>. This is expected, and simply means that the `legacy` (previous) behavior will be used so nothing changes for you. If you want to use the new behaviour, set `legacy=False`. This should only be set if you understand what it means, and thoroughly read the reason why this was added as explained in https://github.com/huggingface/transformers/pull/24565\n"
     ]
    }
   ],
   "source": [
    "from constants import(\n",
    "    MODEL_MAPPING,\n",
    "    EVAL_LANGUAGES\n",
    ")"
   ]
  },
  {
   "cell_type": "code",
   "execution_count": 6,
   "metadata": {},
   "outputs": [],
   "source": [
    "BATCH_SIZE = 1\n",
    "MAX_SEQ_LEN = 512\n",
    "TEMPERATURE = 0.9\n",
    "TOP_K = 50\n",
    "TOP_P = 0.95\n",
    "NUM_RETURN_SEQ = 1"
   ]
  },
  {
   "cell_type": "code",
   "execution_count": 7,
   "metadata": {},
   "outputs": [],
   "source": [
    "EXCLUDE_TASKS = [\n",
    "    'wikiann',\n",
    "    # 'sib200',\n",
    "    # 'xnli'\n",
    "]\n",
    "\n",
    "EXCLUDE_LANGS = [\n",
    "    # 'ar',\n",
    "    # 'de',\n",
    "    # 'es',\n",
    "    # 'el',\n",
    "    # 'fr',\n",
    "    # 'ru'\n",
    "]\n",
    "\n",
    "STORE_RESULTS = True\n"
   ]
  },
  {
   "cell_type": "code",
   "execution_count": 8,
   "metadata": {},
   "outputs": [],
   "source": [
    "def call_run_inference(\n",
    "    task,\n",
    "    language,\n",
    "    model_path,\n",
    "    token_level_eval,\n",
    "    generation_config\n",
    "):\n",
    "    dataset_test_path = Path(f\"data/{task}/{task}_{language}_validation.json\")\n",
    "    pred_file_path = Path(f\"{model_path.name}-{task}-{language}-predictions.json\")\n",
    "\n",
    "    if \"lora\" in str(model_path):\n",
    "        is_peft = True\n",
    "    else:\n",
    "        is_peft = False\n",
    "\n",
    "    run_inference(\n",
    "        dataset_path=dataset_test_path,\n",
    "        model_id=model_path,\n",
    "        is_peft=is_peft,\n",
    "        is_qlora=False,\n",
    "        batch_size=BATCH_SIZE,\n",
    "        generation_config=generation_config,\n",
    "        out_path=pred_file_path,\n",
    "    )\n",
    "\n",
    "    if token_level_eval:\n",
    "        #calculate token level accuracy\n",
    "        exact_match_accuracy, mismatch_percentage = calculate_token_level_match_accuracy(\n",
    "            ground_truth_file=dataset_test_path,\n",
    "            prediction_file=pred_file_path,\n",
    "        )\n",
    "    else:\n",
    "        # Compute exact match accuracy\n",
    "        exact_match_accuracy = calculate_exact_match_accuracy(\n",
    "            ground_truth_file=dataset_test_path,\n",
    "            prediction_file=pred_file_path,\n",
    "        )\n",
    "        mismatch_percentage = None\n",
    "    return exact_match_accuracy, mismatch_percentage"
   ]
  },
  {
   "cell_type": "code",
   "execution_count": 9,
   "metadata": {},
   "outputs": [],
   "source": [
    "def run_task_lang_combos(\n",
    "    model_path,\n",
    "    tokenizer_path,\n",
    "    generation_config,\n",
    "    tasks = EVAL_LANGUAGES.keys(),\n",
    "    exclude_langs = EXCLUDE_LANGS,\n",
    "    results_dict_path = None,\n",
    "):\n",
    "    results_dict = {\n",
    "        'model' : str(model_path),\n",
    "        'tokenizer' : str(tokenizer_path)\n",
    "    }\n",
    "\n",
    "    results_dict['config'] = generation_config\n",
    "\n",
    "    if results_dict_path is not None:\n",
    "        with open(results_dict_path, 'w', encoding='utf-8') as f:\n",
    "            json.dump(results_dict, f, indent=4)\n",
    "\n",
    "    for task in tasks:\n",
    "        if task == 'wikiann':\n",
    "            token_level_eval = True\n",
    "        else:\n",
    "            token_level_eval = False\n",
    "        \n",
    "        if task in EXCLUDE_TASKS:\n",
    "            print(f\"Skipping: {task}\")\n",
    "            continue\n",
    "\n",
    "        for language in EVAL_LANGUAGES[task]:\n",
    "            if language in exclude_langs:\n",
    "                print(f\"Skipping language {language}\")\n",
    "                continue\n",
    "            \n",
    "            exact_match_accuracy, mismatch_count = call_run_inference(task=task, language=language, token_level_eval=token_level_eval, model_path=model_path, generation_config=generation_config)\n",
    "            print(f\"Mismatch count for {model_path.name} - {task} - {language} : {mismatch_count}\")\n",
    "            if results_dict_path is not None:\n",
    "                with open(results_dict_path, 'r', encoding='utf-8') as f:\n",
    "                    results_dict = json.load(f)\n",
    "\n",
    "                if not task in results_dict.keys():\n",
    "                    results_dict[task] = {}\n",
    "                if not language in results_dict.keys():\n",
    "                    results_dict[task][language] = {}\n",
    "\n",
    "                results_dict[task][language]['token_level_eval'] = token_level_eval\n",
    "                results_dict[task][language]['accuracy'] = exact_match_accuracy\n",
    "\n",
    "                with open(results_dict_path, 'w', encoding='utf-8') as f:\n",
    "                    json.dump(results_dict, f, indent=4)\n",
    "\n",
    "            print(f\"Accuracy for {model_path.name} - {task} - {language} : {exact_match_accuracy} (token_level = {token_level_eval})\")"
   ]
  },
  {
   "cell_type": "code",
   "execution_count": 10,
   "metadata": {},
   "outputs": [],
   "source": [
    "model_path = Path(MODEL_MAPPING['mt0-large'])\n",
    "# model_path = Path(\"output/sib200/experiment_mt0-large_sib200_lora_ar\")\n",
    "tokenizer_path = model_path / \"tokenizer_config.json\"\n",
    "\n",
    "tokenizer = T5TokenizerFast.from_pretrained(model_path)\n",
    "\n",
    "generation_config = {\n",
    "        \"max_length\": MAX_SEQ_LEN,\n",
    "        \"temperature\": TEMPERATURE,\n",
    "        \"top_k\": TOP_K,\n",
    "        \"top_p\": TOP_P,\n",
    "        \"num_return_sequences\": NUM_RETURN_SEQ,\n",
    "        \"eos_token_id\": tokenizer.eos_token_id,\n",
    "    }"
   ]
  },
  {
   "cell_type": "code",
   "execution_count": 11,
   "metadata": {},
   "outputs": [],
   "source": [
    "results_dict_path = Path(f\"{model_path.name}_accuracies_all_langs.json\")"
   ]
  },
  {
   "cell_type": "code",
   "execution_count": 12,
   "metadata": {},
   "outputs": [],
   "source": [
    "# run_task_lang_combos(model_path=model_path, tokenizer_path=tokenizer_path, generation_config=generation_config, results_dict_path=results_dict_path)"
   ]
  }
 ],
 "metadata": {
  "kernelspec": {
   "display_name": "thesis_env",
   "language": "python",
   "name": "python3"
  },
  "language_info": {
   "codemirror_mode": {
    "name": "ipython",
    "version": 3
   },
   "file_extension": ".py",
   "mimetype": "text/x-python",
   "name": "python",
   "nbconvert_exporter": "python",
   "pygments_lexer": "ipython3",
   "version": "3.11.8"
  }
 },
 "nbformat": 4,
 "nbformat_minor": 2
}
